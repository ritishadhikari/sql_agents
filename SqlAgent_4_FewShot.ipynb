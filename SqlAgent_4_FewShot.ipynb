{
 "cells": [
  {
   "cell_type": "code",
   "execution_count": 1,
   "id": "dca6890d-5771-4697-9c82-eabb5e927131",
   "metadata": {},
   "outputs": [
    {
     "name": "stderr",
     "output_type": "stream",
     "text": [
      "C:\\Users\\MSI 1\\.conda\\envs\\oaivenv\\Lib\\site-packages\\tqdm\\auto.py:21: TqdmWarning: IProgress not found. Please update jupyter and ipywidgets. See https://ipywidgets.readthedocs.io/en/stable/user_install.html\n",
      "  from .autonotebook import tqdm as notebook_tqdm\n"
     ]
    }
   ],
   "source": [
    "import langchain\n",
    "from dotenv import load_dotenv,find_dotenv\n",
    "from langchain_community.utilities import SQLDatabase\n",
    "from langchain_core.runnables import RunnablePassthrough,RunnableLambda,RunnableParallel\n",
    "from langchain_core.output_parsers import StrOutputParser\n",
    "from langchain_core.prompts import (PromptTemplate, ChatPromptTemplate,FewShotPromptTemplate,\n",
    "                            MessagesPlaceholder,SystemMessagePromptTemplate,HumanMessagePromptTemplate)\n",
    "from langchain_community.vectorstores import FAISS, Chroma\n",
    "from langchain_core.example_selectors import SemanticSimilarityExampleSelector\n",
    "from langchain.embeddings import SentenceTransformerEmbeddings\n",
    "from langchain_google_genai import GoogleGenerativeAI,ChatGoogleGenerativeAI\n",
    "from langchain_community.tools.sql_database.tool import QuerySQLDataBaseTool\n",
    "from langchain_community.agent_toolkits import create_sql_agent"
   ]
  },
  {
   "cell_type": "code",
   "execution_count": 2,
   "id": "c5ecc9e1-cad7-4607-88be-16f818f6989e",
   "metadata": {},
   "outputs": [
    {
     "data": {
      "text/plain": [
       "True"
      ]
     },
     "execution_count": 2,
     "metadata": {},
     "output_type": "execute_result"
    }
   ],
   "source": [
    "load_dotenv(find_dotenv(\"D:\\LLM Courses\\Master Langchain Udemy\\.env\"))"
   ]
  },
  {
   "cell_type": "code",
   "execution_count": 3,
   "id": "90fb3bac-6ecb-4f30-b27f-e7753bb03886",
   "metadata": {},
   "outputs": [],
   "source": [
    "llm=ChatGoogleGenerativeAI(model=\"gemini-1.5-flash-001\",temperature=0.3)\n",
    "db=SQLDatabase.from_uri(database_uri=\"sqlite:///db/chinook.db/chinook.db\")"
   ]
  },
  {
   "cell_type": "code",
   "execution_count": 4,
   "id": "ca7104f4-a6ef-4324-89d6-e6effc24ea5b",
   "metadata": {},
   "outputs": [],
   "source": [
    "agentExecutor=create_sql_agent(llm=llm,db=db,verbose=True)"
   ]
  },
  {
   "cell_type": "code",
   "execution_count": 5,
   "id": "db1b3efb-8f48-4489-b955-036916c028e7",
   "metadata": {},
   "outputs": [],
   "source": [
    "query={\"input\":\"How many Employees are there?\"}"
   ]
  },
  {
   "cell_type": "code",
   "execution_count": 6,
   "id": "c058ee9f-ae56-4574-8b24-504f82026bba",
   "metadata": {},
   "outputs": [
    {
     "name": "stdout",
     "output_type": "stream",
     "text": [
      "\n",
      "\n",
      "\u001b[1m> Entering new SQL Agent Executor chain...\u001b[0m\n",
      "\u001b[32;1m\u001b[1;3mThought: I should look at the tables in the database to see what I can query.  Then I should query the schema of the most relevant tables.\n",
      "Action: sql_db_list_tables\n",
      "Action Input: \u001b[0m\u001b[38;5;200m\u001b[1;3mAlbum, Artist, Customer, Employee, Genre, Invoice, InvoiceLine, MediaType, Playlist, PlaylistTrack, Track\u001b[0m\u001b[32;1m\u001b[1;3mThought: I should query the schema of the Employee table to see what columns are available.\n",
      "Action: sql_db_schema\n",
      "Action Input: Employee\u001b[0m\u001b[33;1m\u001b[1;3m\n",
      "CREATE TABLE \"Employee\" (\n",
      "\t\"EmployeeId\" INTEGER NOT NULL, \n",
      "\t\"LastName\" NVARCHAR(20) NOT NULL, \n",
      "\t\"FirstName\" NVARCHAR(20) NOT NULL, \n",
      "\t\"Title\" NVARCHAR(30), \n",
      "\t\"ReportsTo\" INTEGER, \n",
      "\t\"BirthDate\" DATETIME, \n",
      "\t\"HireDate\" DATETIME, \n",
      "\t\"Address\" NVARCHAR(70), \n",
      "\t\"City\" NVARCHAR(40), \n",
      "\t\"State\" NVARCHAR(40), \n",
      "\t\"Country\" NVARCHAR(40), \n",
      "\t\"PostalCode\" NVARCHAR(10), \n",
      "\t\"Phone\" NVARCHAR(24), \n",
      "\t\"Fax\" NVARCHAR(24), \n",
      "\t\"Email\" NVARCHAR(60), \n",
      "\tPRIMARY KEY (\"EmployeeId\"), \n",
      "\tFOREIGN KEY(\"ReportsTo\") REFERENCES \"Employee\" (\"EmployeeId\")\n",
      ")\n",
      "\n",
      "/*\n",
      "3 rows from Employee table:\n",
      "EmployeeId\tLastName\tFirstName\tTitle\tReportsTo\tBirthDate\tHireDate\tAddress\tCity\tState\tCountry\tPostalCode\tPhone\tFax\tEmail\n",
      "1\tAdams\tAndrew\tGeneral Manager\tNone\t1962-02-18 00:00:00\t2002-08-14 00:00:00\t11120 Jasper Ave NW\tEdmonton\tAB\tCanada\tT5K 2N1\t+1 (780) 428-9482\t+1 (780) 428-3457\tandrew@chinookcorp.com\n",
      "2\tEdwards\tNancy\tSales Manager\t1\t1958-12-08 00:00:00\t2002-05-01 00:00:00\t825 8 Ave SW\tCalgary\tAB\tCanada\tT2P 2T3\t+1 (403) 262-3443\t+1 (403) 262-3322\tnancy@chinookcorp.com\n",
      "3\tPeacock\tJane\tSales Support Agent\t2\t1973-08-29 00:00:00\t2002-04-01 00:00:00\t1111 6 Ave SW\tCalgary\tAB\tCanada\tT2P 5M5\t+1 (403) 262-3443\t+1 (403) 262-6712\tjane@chinookcorp.com\n",
      "*/\u001b[0m\u001b[32;1m\u001b[1;3mThought: I should count the number of rows in the Employee table.\n",
      "Action: sql_db_query_checker\n",
      "Action Input: SELECT COUNT(*) FROM Employee\u001b[0m\u001b[36;1m\u001b[1;3m```sql\n",
      "SELECT COUNT(*) FROM Employee\n",
      "```\u001b[0m\u001b[32;1m\u001b[1;3mAction: sql_db_query\n",
      "Action Input: SELECT COUNT(*) FROM Employee\u001b[0m\u001b[36;1m\u001b[1;3m[(8,)]\u001b[0m\u001b[32;1m\u001b[1;3mThought: I now know the final answer\n",
      "Final Answer: There are 8 employees. \n",
      "\u001b[0m\n",
      "\n",
      "\u001b[1m> Finished chain.\u001b[0m\n"
     ]
    },
    {
     "data": {
      "text/plain": [
       "{'input': 'How many Employees are there?', 'output': 'There are 8 employees.'}"
      ]
     },
     "execution_count": 6,
     "metadata": {},
     "output_type": "execute_result"
    }
   ],
   "source": [
    "agentExecutor.invoke(input=query)"
   ]
  },
  {
   "cell_type": "code",
   "execution_count": 7,
   "id": "ffde011c-a1ea-46ab-9ef8-4164ed820285",
   "metadata": {},
   "outputs": [
    {
     "name": "stdout",
     "output_type": "stream",
     "text": [
      "\n",
      "\n",
      "\u001b[1m> Entering new SQL Agent Executor chain...\u001b[0m\n",
      "\u001b[32;1m\u001b[1;3mAction: sql_db_list_tables\n",
      "Action Input: \u001b[0m\u001b[38;5;200m\u001b[1;3mAlbum, Artist, Customer, Employee, Genre, Invoice, InvoiceLine, MediaType, Playlist, PlaylistTrack, Track\u001b[0m\u001b[32;1m\u001b[1;3mThought: I should look at the schema of the Playlist table.\n",
      "Action: sql_db_schema\n",
      "Action Input: Playlist\u001b[0m\u001b[33;1m\u001b[1;3m\n",
      "CREATE TABLE \"Playlist\" (\n",
      "\t\"PlaylistId\" INTEGER NOT NULL, \n",
      "\t\"Name\" NVARCHAR(120), \n",
      "\tPRIMARY KEY (\"PlaylistId\")\n",
      ")\n",
      "\n",
      "/*\n",
      "3 rows from Playlist table:\n",
      "PlaylistId\tName\n",
      "1\tMusic\n",
      "2\tMovies\n",
      "3\tTV Shows\n",
      "*/\u001b[0m\u001b[32;1m\u001b[1;3mThought: I now know the final answer\n",
      "Final Answer: The Playlist table has two columns: PlaylistId and Name. PlaylistId is the primary key and is an integer. Name is a string with a maximum length of 120 characters.  The table contains information about playlists, such as \"Music\", \"Movies\", and \"TV Shows\". \n",
      "\u001b[0m\n",
      "\n",
      "\u001b[1m> Finished chain.\u001b[0m\n"
     ]
    },
    {
     "data": {
      "text/plain": [
       "{'input': 'Describe the Playlist Table',\n",
       " 'output': 'The Playlist table has two columns: PlaylistId and Name. PlaylistId is the primary key and is an integer. Name is a string with a maximum length of 120 characters.  The table contains information about playlists, such as \"Music\", \"Movies\", and \"TV Shows\".'}"
      ]
     },
     "execution_count": 7,
     "metadata": {},
     "output_type": "execute_result"
    }
   ],
   "source": [
    "agentExecutor.invoke(input={\n",
    "    \"input\":\"Describe the Playlist Table\"\n",
    "})"
   ]
  },
  {
   "cell_type": "markdown",
   "id": "bc3491dc-b577-462f-a555-8a62e1bf881f",
   "metadata": {},
   "source": [
    "### With Few Shot Prompt Template"
   ]
  },
  {
   "cell_type": "code",
   "execution_count": 8,
   "id": "b43b8a26-1fee-40f9-8734-1504f6335062",
   "metadata": {},
   "outputs": [],
   "source": [
    "examples=[\n",
    "    {\n",
    "        \"input\":\"Find all Artists\",\n",
    "        \"query\":\"SELECT * FROM artist;\"\n",
    "    },\n",
    "    {\n",
    "        \"input\":\"Find All the albums for the artist 'AC/DC'\",\n",
    "        \"query\":\"SELECT * FROM album WHERE artistid=(SELECT artistid FROM artist WHERE name='AC/DC');\"\n",
    "    },\n",
    "    {\n",
    "        \"input\": \"List all tracks in the 'Rock' genre.\",\n",
    "        \"query\": \"SELECT * FROM Track WHERE GenreId = (SELECT GenreId FROM Genre WHERE Name = 'Rock');\",\n",
    "    },\n",
    "    {\n",
    "        \"input\": \"Find the total duration of all tracks.\",\n",
    "        \"query\": \"SELECT SUM(Milliseconds) FROM Track;\",\n",
    "    },\n",
    "    {\n",
    "        \"input\": \"List all customers from Canada.\",\n",
    "        \"query\": \"SELECT * FROM Customer WHERE Country = 'Canada';\",\n",
    "    },\n",
    "    {\n",
    "        \"input\": \"How many tracks are there in the album with ID 5?\",\n",
    "        \"query\": \"SELECT COUNT(*) FROM Track WHERE AlbumId = 5;\",\n",
    "    },\n",
    "    {\n",
    "        \"input\": \"Find the total number of invoices.\",\n",
    "        \"query\": \"SELECT COUNT(*) FROM Invoice;\",\n",
    "    },\n",
    "    {\n",
    "        \"input\": \"List all tracks that are longer than 5 minutes.\",\n",
    "        \"query\": \"SELECT * FROM Track WHERE Milliseconds > 300000;\",\n",
    "    },\n",
    "    {\n",
    "        \"input\": \"Who are the top 5 customers by total purchase?\",\n",
    "        \"query\": \"SELECT CustomerId, SUM(Total) AS TotalPurchase FROM Invoice GROUP BY CustomerId ORDER BY TotalPurchase DESC LIMIT 5;\",\n",
    "    },\n",
    "    {\n",
    "        \"input\": \"Which albums are from the year 2000?\",\n",
    "        \"query\": \"SELECT * FROM Album WHERE strftime('%Y', ReleaseDate) = '2000';\",\n",
    "    },\n",
    "    {\n",
    "        \"input\": \"How many employees are there\",\n",
    "        \"query\": 'SELECT COUNT(*) FROM \"Employee\"',\n",
    "    },\n",
    "]\n"
   ]
  },
  {
   "cell_type": "code",
   "execution_count": 9,
   "id": "078dbab8-8121-4b69-9889-519f8d47b479",
   "metadata": {},
   "outputs": [
    {
     "name": "stderr",
     "output_type": "stream",
     "text": [
      "C:\\Users\\MSI 1\\AppData\\Local\\Temp\\ipykernel_19496\\2135539750.py:3: LangChainDeprecationWarning: The class `HuggingFaceEmbeddings` was deprecated in LangChain 0.2.2 and will be removed in 0.3.0. An updated version of the class exists in the langchain-huggingface package and should be used instead. To use it run `pip install -U langchain-huggingface` and import as `from langchain_huggingface import HuggingFaceEmbeddings`.\n",
      "  embeddings=SentenceTransformerEmbeddings(model_name=\"all-MiniLM-L6-V2\"),\n"
     ]
    }
   ],
   "source": [
    "exampleSelector=SemanticSimilarityExampleSelector.from_examples(\n",
    "    examples=examples,\n",
    "    embeddings=SentenceTransformerEmbeddings(model_name=\"all-MiniLM-L6-V2\"),\n",
    "    vectorstore_cls=Chroma,\n",
    "    k=4,\n",
    "    input_keys=['input']\n",
    ")"
   ]
  },
  {
   "cell_type": "code",
   "execution_count": 10,
   "id": "207119a5-0362-4fb7-8448-bd2c5bae1244",
   "metadata": {},
   "outputs": [],
   "source": [
    "prefix=\"\"\"\n",
    "    You are an agent designed to interact with a SQL database.\n",
    "    Given an input question, create a syntactically correct {dialect} query to run, then look at the results of the query and return the answer.\n",
    "    Unless the user specifies a specific number of examples they wish to obtain, always limit your query to at most {top_k} results.\n",
    "    You can order the results by a relevant column to return the most interesting examples in the database.\n",
    "    Never query for all the columns from a specific table, only ask for the relevant columns given the question.\n",
    "    You have access to tools for interacting with the database.\n",
    "    Only use the given tools. Only use the information returned by the tools to construct your final answer.\n",
    "    You MUST double check your query before executing it. If you get an error while executing a query, rewrite the query and try again.\n",
    "\n",
    "    DO NOT make any DML statements (INSERT, UPDATE, DELETE, DROP etc.) to the database.\n",
    "    If the question does not seem related to the database, just return \"I don't know\" as the answer.\n",
    "    \n",
    "    Here are some examples of user inputs and their corresponding SQL queries:\n",
    "\"\"\""
   ]
  },
  {
   "cell_type": "code",
   "execution_count": 11,
   "id": "5f396e48-a5d3-433f-ac0f-7387d1917973",
   "metadata": {},
   "outputs": [],
   "source": [
    "fewShotPromptTemplate=FewShotPromptTemplate(example_selector=exampleSelector,\n",
    "                                            prefix=prefix,suffix=\"\",\n",
    "                                            input_variables=['input','dialect','top_k'],\n",
    "                                            example_prompt=PromptTemplate.from_template(template=\"User input: {input}\\nSQL Query: {query}\")\n",
    "                                           )"
   ]
  },
  {
   "cell_type": "code",
   "execution_count": 12,
   "id": "81f7cb3c-a392-4978-8ec8-235f41795846",
   "metadata": {},
   "outputs": [],
   "source": [
    "fullPrompt=ChatPromptTemplate.from_messages(\n",
    "    messages=[\n",
    "        SystemMessagePromptTemplate(prompt=fewShotPromptTemplate),\n",
    "        HumanMessagePromptTemplate(prompt=PromptTemplate(template=\"{input}\")),\n",
    "        MessagesPlaceholder(variable_name=\"agent_scratchpad\")\n",
    "    ]\n",
    ")"
   ]
  },
  {
   "cell_type": "code",
   "execution_count": 13,
   "id": "6b1d6543-1391-4222-9b4d-a8d6905aa4a4",
   "metadata": {},
   "outputs": [
    {
     "name": "stdout",
     "output_type": "stream",
     "text": [
      "System: \n",
      "    You are an agent designed to interact with a SQL database.\n",
      "    Given an input question, create a syntactically correct SQL query to run, then look at the results of the query and return the answer.\n",
      "    Unless the user specifies a specific number of examples they wish to obtain, always limit your query to at most 5 results.\n",
      "    You can order the results by a relevant column to return the most interesting examples in the database.\n",
      "    Never query for all the columns from a specific table, only ask for the relevant columns given the question.\n",
      "    You have access to tools for interacting with the database.\n",
      "    Only use the given tools. Only use the information returned by the tools to construct your final answer.\n",
      "    You MUST double check your query before executing it. If you get an error while executing a query, rewrite the query and try again.\n",
      "\n",
      "    DO NOT make any DML statements (INSERT, UPDATE, DELETE, DROP etc.) to the database.\n",
      "    If the question does not seem related to the database, just return \"I don't know\" as the answer.\n",
      "    \n",
      "    Here are some examples of user inputs and their corresponding SQL queries:\n",
      "\n",
      "\n",
      "User input: Find all Artists\n",
      "SQL Query: SELECT * FROM artist;\n",
      "\n",
      "User input: How many tracks are there in the album with ID 5?\n",
      "SQL Query: SELECT COUNT(*) FROM Track WHERE AlbumId = 5;\n",
      "\n",
      "User input: Find All the albums for the artist 'AC/DC'\n",
      "SQL Query: SELECT * FROM album WHERE artistid=(SELECT artistid FROM artist WHERE name='AC/DC');\n",
      "\n",
      "User input: Which albums are from the year 2000?\n",
      "SQL Query: SELECT * FROM Album WHERE strftime('%Y', ReleaseDate) = '2000';\n",
      "Human: How Many Artists are there?\n"
     ]
    }
   ],
   "source": [
    "promptVal=fullPrompt.invoke(\n",
    "    input={\n",
    "        \"input\":\"How Many Artists are there?\",\n",
    "        \"top_k\":5,\n",
    "        \"dialect\":\"SQL\",\n",
    "        \"agent_scratchpad\":[]\n",
    "    }\n",
    ")\n",
    "\n",
    "print(promptVal.to_string())"
   ]
  },
  {
   "cell_type": "code",
   "execution_count": 14,
   "id": "2c9a92b3-0109-4c01-8665-fd6d51cb4031",
   "metadata": {},
   "outputs": [],
   "source": [
    "agent=create_sql_agent(llm=llm,db=db,prompt=fullPrompt,verbose=True,agent_type=\"tool-calling\")"
   ]
  },
  {
   "cell_type": "code",
   "execution_count": 15,
   "id": "ff53fd0f-1e6d-4afc-bcf3-08a8a8054a17",
   "metadata": {},
   "outputs": [
    {
     "name": "stdout",
     "output_type": "stream",
     "text": [
      "\n",
      "\n",
      "\u001b[1m> Entering new SQL Agent Executor chain...\u001b[0m\n",
      "\u001b[32;1m\u001b[1;3m\n",
      "Invoking: `sql_db_query` with `{'query': 'SELECT COUNT(*) FROM artist'}`\n",
      "\n",
      "\n",
      "\u001b[0m\u001b[36;1m\u001b[1;3m[(275,)]\u001b[0m\u001b[32;1m\u001b[1;3mThere are 275 artists. \n",
      "\u001b[0m\n",
      "\n",
      "\u001b[1m> Finished chain.\u001b[0m\n"
     ]
    },
    {
     "data": {
      "text/plain": [
       "{'input': 'How many artists are there?',\n",
       " 'dialect': 'SQL',\n",
       " 'top_k': 5,\n",
       " 'output': 'There are 275 artists. \\n'}"
      ]
     },
     "execution_count": 15,
     "metadata": {},
     "output_type": "execute_result"
    }
   ],
   "source": [
    "agent.invoke({\"input\": \"How many artists are there?\",\"dialect\":\"SQL\",\"top_k\":5})"
   ]
  },
  {
   "cell_type": "code",
   "execution_count": null,
   "id": "569f5071-6b53-448d-a1cf-2856ead11050",
   "metadata": {},
   "outputs": [],
   "source": []
  },
  {
   "cell_type": "code",
   "execution_count": null,
   "id": "c03ba4f9-2aaf-46fb-8174-b56baaa1abb1",
   "metadata": {},
   "outputs": [],
   "source": []
  },
  {
   "cell_type": "code",
   "execution_count": null,
   "id": "dfdbb79c-7ae0-4016-bbad-fc6d211b1d3a",
   "metadata": {},
   "outputs": [],
   "source": []
  }
 ],
 "metadata": {
  "kernelspec": {
   "display_name": "Python 3 (ipykernel)",
   "language": "python",
   "name": "python3"
  },
  "language_info": {
   "codemirror_mode": {
    "name": "ipython",
    "version": 3
   },
   "file_extension": ".py",
   "mimetype": "text/x-python",
   "name": "python",
   "nbconvert_exporter": "python",
   "pygments_lexer": "ipython3",
   "version": "3.11.9"
  }
 },
 "nbformat": 4,
 "nbformat_minor": 5
}
