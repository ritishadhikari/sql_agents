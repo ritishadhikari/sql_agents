{
 "cells": [
  {
   "cell_type": "code",
   "execution_count": 149,
   "id": "433239dc-6004-46f1-abaa-7400becb2dbd",
   "metadata": {},
   "outputs": [],
   "source": [
    "import langchain\n",
    "from dotenv import load_dotenv,find_dotenv\n",
    "from langchain_core.messages import SystemMessage\n",
    "from langchain_community.utilities import SQLDatabase\n",
    "from langchain_core.runnables import RunnablePassthrough,RunnableLambda,RunnableParallel,Runnable\n",
    "from langchain_core.output_parsers import StrOutputParser\n",
    "from langchain_core.prompts import (PromptTemplate, ChatPromptTemplate,FewShotPromptTemplate,\n",
    "                            MessagesPlaceholder,SystemMessagePromptTemplate,HumanMessagePromptTemplate)\n",
    "from langchain_community.vectorstores import FAISS, Chroma\n",
    "from langchain_core.example_selectors import SemanticSimilarityExampleSelector\n",
    "from langchain.embeddings import SentenceTransformerEmbeddings\n",
    "from langchain_google_genai import GoogleGenerativeAI,ChatGoogleGenerativeAI\n",
    "from langchain_community.tools.sql_database.tool import QuerySQLDataBaseTool\n",
    "from langchain_community.agent_toolkits import create_sql_agent\n",
    "from langchain_openai import ChatOpenAI\n",
    "from langchain.chains.sql_database.prompt import SQL_PROMPTS\n",
    "from langchain.chains import create_sql_query_chain\n",
    "from operator import itemgetter\n",
    "from langchain_core.pydantic_v1 import BaseModel,Field\n",
    "from langchain.chains.openai_tools import create_extraction_chain_pydantic\n",
    "from typing import List"
   ]
  },
  {
   "cell_type": "code",
   "execution_count": 150,
   "id": "a044d285-55ec-4c4e-a37e-89287edec48e",
   "metadata": {},
   "outputs": [
    {
     "data": {
      "text/plain": [
       "True"
      ]
     },
     "execution_count": 150,
     "metadata": {},
     "output_type": "execute_result"
    }
   ],
   "source": [
    "load_dotenv(find_dotenv(\"D:\\LLM Courses\\Master Langchain Udemy\\.env\"))"
   ]
  },
  {
   "cell_type": "code",
   "execution_count": 216,
   "id": "4fdfa9b5-fda0-46b7-a6af-6cd6158c134c",
   "metadata": {},
   "outputs": [],
   "source": [
    "# llm=ChatGoogleGenerativeAI(model=\"gemini-1.5-pro\",temperature=0.3)\n",
    "llm=ChatOpenAI(model=\"gpt-3.5-turbo\")\n",
    "db=SQLDatabase.from_uri(database_uri=\"sqlite:///db/chinook.db/chinook.db\")"
   ]
  },
  {
   "cell_type": "code",
   "execution_count": 152,
   "id": "22c4d13f-5c91-46a0-9571-ce016b3fab47",
   "metadata": {},
   "outputs": [],
   "source": [
    "class Table(BaseModel):\n",
    "    \"Table in SQL Database.\"\n",
    "    name:str=Field(description=\"Name of Table in SQL Database\")"
   ]
  },
  {
   "cell_type": "code",
   "execution_count": 153,
   "id": "6dd907d4-beb6-4bb7-9b9e-08d18fb7dcb9",
   "metadata": {
    "scrolled": true
   },
   "outputs": [
    {
     "data": {
      "text/plain": [
       "['Album',\n",
       " 'Artist',\n",
       " 'Customer',\n",
       " 'Employee',\n",
       " 'Genre',\n",
       " 'Invoice',\n",
       " 'InvoiceLine',\n",
       " 'MediaType',\n",
       " 'Playlist',\n",
       " 'PlaylistTrack',\n",
       " 'Track']"
      ]
     },
     "execution_count": 153,
     "metadata": {},
     "output_type": "execute_result"
    }
   ],
   "source": [
    "db.get_usable_table_names()"
   ]
  },
  {
   "cell_type": "code",
   "execution_count": 154,
   "id": "7097577d-65e4-47a1-ab95-7d1d6f0c600d",
   "metadata": {},
   "outputs": [
    {
     "name": "stdout",
     "output_type": "stream",
     "text": [
      "Album\n",
      "Artist\n",
      "Customer\n",
      "Employee\n",
      "Genre\n",
      "Invoice\n",
      "InvoiceLine\n",
      "MediaType\n",
      "Playlist\n",
      "PlaylistTrack\n",
      "Track\n"
     ]
    }
   ],
   "source": [
    "tableNames=\"\\n\".join(db.get_usable_table_names())\n",
    "print(tableNames)"
   ]
  },
  {
   "cell_type": "code",
   "execution_count": 155,
   "id": "59fd50ed-4c75-41cf-b691-ab515b25177d",
   "metadata": {},
   "outputs": [],
   "source": [
    "system = f\"\"\"\n",
    "            Return the names of ALL the SQL tables that MIGHT be relevant to the user question.\n",
    "            The tables are:\n",
    "\n",
    "            {tableNames}\n",
    "\n",
    "            Remember to include ALL POTENTIALLY RELEVANT tables, even if you're not sure that they're needed.\"\"\""
   ]
  },
  {
   "cell_type": "code",
   "execution_count": 156,
   "id": "e160087e-fbb6-473b-bf1e-d37b7799ee7f",
   "metadata": {},
   "outputs": [],
   "source": [
    "tableChain=create_extraction_chain_pydantic(pydantic_schemas=Table,llm=llm,system_message=system)"
   ]
  },
  {
   "cell_type": "code",
   "execution_count": 157,
   "id": "9b1cb736-a281-42e5-9635-d2ca01a1fb4d",
   "metadata": {},
   "outputs": [
    {
     "data": {
      "text/plain": [
       "[Table(name='Genre'), Table(name='Artist'), Table(name='Track')]"
      ]
     },
     "execution_count": 157,
     "metadata": {},
     "output_type": "execute_result"
    }
   ],
   "source": [
    "tableChain.invoke(input={\"input\":\"What are all the genres of Alanis Morisette songs\"})"
   ]
  },
  {
   "cell_type": "code",
   "execution_count": null,
   "id": "d51e346b-d7c3-483c-90fe-234d88e57cde",
   "metadata": {},
   "outputs": [],
   "source": []
  },
  {
   "cell_type": "code",
   "execution_count": 158,
   "id": "f6589cdb-b1a8-4723-bc1b-d45ee97b3a7c",
   "metadata": {},
   "outputs": [],
   "source": [
    "system=\"\"\"\n",
    "    Return the names of the SQL tables that are relevant to the user question. \\\n",
    "    The tables are:\n",
    "\n",
    "    Music\n",
    "    Business\n",
    "\"\"\""
   ]
  },
  {
   "cell_type": "code",
   "execution_count": 159,
   "id": "63840f7e-fd04-476f-b5a0-1de0aed4b0e0",
   "metadata": {},
   "outputs": [],
   "source": [
    "categoryChain=create_extraction_chain_pydantic(pydantic_schemas=Table,llm=llm,system_message=system)"
   ]
  },
  {
   "cell_type": "code",
   "execution_count": 160,
   "id": "13c11440-c6ab-4801-8c5e-0b10fbb37364",
   "metadata": {},
   "outputs": [
    {
     "data": {
      "text/plain": [
       "[Table(name='Music'), Table(name='Business')]"
      ]
     },
     "execution_count": 160,
     "metadata": {},
     "output_type": "execute_result"
    }
   ],
   "source": [
    "categoryChain.invoke(input={\"input\":\"What are all the genres of Alanis Morisette songs\"})"
   ]
  },
  {
   "cell_type": "code",
   "execution_count": 161,
   "id": "ad2e7e4c-f413-4af6-9764-7ac90e0f9bbb",
   "metadata": {},
   "outputs": [
    {
     "data": {
      "text/plain": [
       "ChatPromptTemplate(input_variables=['input'], messages=[SystemMessagePromptTemplate(prompt=PromptTemplate(input_variables=[], template='\\n    Return the names of the SQL tables that are relevant to the user question.     The tables are:\\n\\n    Music\\n    Business\\n')), HumanMessagePromptTemplate(prompt=PromptTemplate(input_variables=['input'], template='{input}'))])\n",
       "| RunnableBinding(bound=ChatOpenAI(client=<openai.resources.chat.completions.Completions object at 0x0000023E122A8690>, async_client=<openai.resources.chat.completions.AsyncCompletions object at 0x0000023E122AB590>, openai_api_key=SecretStr('**********'), openai_proxy=''), kwargs={'tools': [{'type': 'function', 'function': {'name': 'Table', 'description': 'Table in SQL Database.', 'parameters': {'type': 'object', 'properties': {'name': {'description': 'Name of Table in SQL Database', 'type': 'string'}}, 'required': ['name']}}}]})\n",
       "| PydanticToolsParser(tools=[<class '__main__.Table'>])"
      ]
     },
     "execution_count": 161,
     "metadata": {},
     "output_type": "execute_result"
    }
   ],
   "source": [
    "categoryChain"
   ]
  },
  {
   "cell_type": "code",
   "execution_count": 162,
   "id": "71be08a2-5630-49da-96a0-825d0f9c38db",
   "metadata": {},
   "outputs": [],
   "source": [
    "def getTables(categories:List[Table]) -> List[str]:\n",
    "    tables=[]\n",
    "    for category in categories:\n",
    "        if category.name == \"Music\":\n",
    "            tables.extend(\n",
    "                [\n",
    "                    \"Album\",\"Artist\",\"Genre\",\n",
    "                    \"MediaType\",\"Playlist\",\"PlaylistTrack\",\"Track\",\n",
    "                ]\n",
    "            )\n",
    "        elif category.name==\"Business\":\n",
    "            tables.extend(\n",
    "                [\n",
    "                    \"Customer\", \"Employee\", \"Invoice\", \"InvoiceLine\"\n",
    "                ]\n",
    "            )\n",
    "    return tables"
   ]
  },
  {
   "cell_type": "code",
   "execution_count": 163,
   "id": "ce988a0b-1e50-4df9-8db3-386cb70da046",
   "metadata": {},
   "outputs": [
    {
     "data": {
      "text/plain": [
       "['Album',\n",
       " 'Artist',\n",
       " 'Genre',\n",
       " 'MediaType',\n",
       " 'Playlist',\n",
       " 'PlaylistTrack',\n",
       " 'Track',\n",
       " 'Customer',\n",
       " 'Employee',\n",
       " 'Invoice',\n",
       " 'InvoiceLine']"
      ]
     },
     "execution_count": 163,
     "metadata": {},
     "output_type": "execute_result"
    }
   ],
   "source": [
    "tableChain=categoryChain | getTables\n",
    "tableChain.invoke(input={\"input\":\"What are all the genres of Alanis Morisette songs\"})"
   ]
  },
  {
   "cell_type": "code",
   "execution_count": 256,
   "id": "8870fa5f-ae6c-4975-b60e-adaa05c2ea1e",
   "metadata": {},
   "outputs": [],
   "source": [
    "queryChain=create_sql_query_chain(llm=llm,db=db)\n",
    "fullChain=RunnablePassthrough.assign(input=itemgetter(\"question\")).assign(table_info=itemgetter(\"input\")|tableChain)|queryChain"
   ]
  },
  {
   "cell_type": "code",
   "execution_count": 260,
   "id": "664a4c5b-10f3-40a0-83e1-16cf93e6d694",
   "metadata": {},
   "outputs": [
    {
     "data": {
      "text/plain": [
       "[PromptTemplate(input_variables=['input', 'table_info'], partial_variables={'top_k': '5'}, template='You are a SQLite expert. Given an input question, first create a syntactically correct SQLite query to run, then look at the results of the query and return the answer to the input question.\\nUnless the user specifies in the question a specific number of examples to obtain, query for at most {top_k} results using the LIMIT clause as per SQLite. You can order the results to return the most informative data in the database.\\nNever query for all columns from a table. You must query only the columns that are needed to answer the question. Wrap each column name in double quotes (\") to denote them as delimited identifiers.\\nPay attention to use only the column names you can see in the tables below. Be careful to not query for columns that do not exist. Also, pay attention to which column is in which table.\\nPay attention to use date(\\'now\\') function to get the current date, if the question involves \"today\".\\n\\nUse the following format:\\n\\nQuestion: Question here\\nSQLQuery: SQL Query to run\\nSQLResult: Result of the SQLQuery\\nAnswer: Final answer here\\n\\nOnly use the following tables:\\n{table_info}\\n\\nQuestion: {input}')]"
      ]
     },
     "execution_count": 260,
     "metadata": {},
     "output_type": "execute_result"
    }
   ],
   "source": [
    "queryChain.get_prompts()"
   ]
  },
  {
   "cell_type": "code",
   "execution_count": 248,
   "id": "f8091766-2fea-4b54-a45f-2f195950ea70",
   "metadata": {},
   "outputs": [
    {
     "name": "stdout",
     "output_type": "stream",
     "text": [
      "SELECT DISTINCT \"g\".\"Name\"\n",
      "FROM \"Track\" AS \"t\"\n",
      "JOIN \"Genre\" AS \"g\" ON \"t\".\"GenreId\" = \"g\".\"GenreId\"\n",
      "JOIN \"Album\" AS \"a\" ON \"t\".\"AlbumId\" = \"a\".\"AlbumId\"\n",
      "JOIN \"Artist\" AS \"ar\" ON \"a\".\"ArtistId\" = \"ar\".\"ArtistId\"\n",
      "WHERE \"ar\".\"Name\" = 'Alanis Morissette'\n",
      "ORDER BY \"g\".\"Name\";\n"
     ]
    }
   ],
   "source": [
    "response=fullChain.invoke(input={\"question\":\"What are all the genres of Alanis Morissette songs\"})\n",
    "print(response)"
   ]
  },
  {
   "cell_type": "code",
   "execution_count": 249,
   "id": "30cd5f7d-8ddf-4813-a0b0-8eb21130bf08",
   "metadata": {},
   "outputs": [
    {
     "data": {
      "text/plain": [
       "\"[('Rock',)]\""
      ]
     },
     "execution_count": 249,
     "metadata": {},
     "output_type": "execute_result"
    }
   ],
   "source": [
    "db.run(command=response)"
   ]
  },
  {
   "cell_type": "markdown",
   "id": "968992f5-130d-4f42-9be8-1f8086a62683",
   "metadata": {},
   "source": [
    "<h3> Trying with a Prompt</h3>"
   ]
  },
  {
   "cell_type": "code",
   "execution_count": 311,
   "id": "049cacf5-62eb-4425-81d8-baa3e7ca36f0",
   "metadata": {},
   "outputs": [],
   "source": [
    "## Note: The 'question' is not seen by the llm (here query chain, it is the raw input from the user\n",
    "prompt=ChatPromptTemplate.from_template(\n",
    "    template=\"\"\"\n",
    "        You are a SQLite expert. Given an input question, first create a syntactically correct SQLite query to run, then look at the results of the query and return the answer to the input question.\\nUnless the user specifies in the question a specific number of examples to obtain, query for at most {top_k} results using the LIMIT clause as per SQLite. \n",
    "        You can order the results to return the most informative data in the database.\n",
    "        Never query for all columns from a table. \n",
    "        You must query only the columns that are needed to answer the question. \n",
    "        Wrap each column name in double quotes (\") to denote them as delimited identifiers.\n",
    "        Pay attention to use only the column names you can see in the tables below. \n",
    "        Be careful to not query for columns that do not exist. \n",
    "        Also, pay attention to which column is in which table.\n",
    "        Pay attention to use date(\\'now\\') function to get the current date, if the question involves \"today\".\n",
    "        Use the following format:\\n\\nQuestion:\n",
    "        ######################\n",
    "        User's Question: {input}: \n",
    "        Only Consider Tables from: {table_info}\n",
    "        SQL Query:\n",
    "        #####################     \n",
    "    \"\"\"\n",
    ")"
   ]
  },
  {
   "cell_type": "code",
   "execution_count": 312,
   "id": "cecadb60-5d64-4083-8a36-f5f33ede0e16",
   "metadata": {},
   "outputs": [],
   "source": [
    "queryChain=create_sql_query_chain(llm=llm,db=db,prompt=prompt)"
   ]
  },
  {
   "cell_type": "code",
   "execution_count": 316,
   "id": "7813d5d2-5d29-4af2-ac61-8b35495b1bb9",
   "metadata": {},
   "outputs": [],
   "source": [
    "fullChain=RunnablePassthrough.assign(input=itemgetter(\"question\")).assign(table_info=itemgetter(\"input\")|tableChain)|queryChain|RunnableLambda(lambda s: s.split(\"SQL Query:\")[1])"
   ]
  },
  {
   "cell_type": "code",
   "execution_count": 317,
   "id": "ec45c76f-a2ba-4437-9b74-da789ba4d053",
   "metadata": {
    "scrolled": true
   },
   "outputs": [],
   "source": [
    "response=fullChain.invoke(input={\"question\":\"What are all the genres of Alanis Morissette songs\",\"top_k\":5})"
   ]
  },
  {
   "cell_type": "code",
   "execution_count": 318,
   "id": "f7f5e0d5-9821-472a-bacd-c5676fdcb187",
   "metadata": {
    "scrolled": true
   },
   "outputs": [
    {
     "name": "stdout",
     "output_type": "stream",
     "text": [
      "\n",
      "        SELECT DISTINCT \"Genre\".\"Name\"\n",
      "        FROM \"Track\"\n",
      "        JOIN \"Genre\" ON \"Track\".\"GenreId\" = \"Genre\".\"GenreId\"\n",
      "        JOIN \"Album\" ON \"Track\".\"AlbumId\" = \"Album\".\"AlbumId\"\n",
      "        JOIN \"Artist\" ON \"Album\".\"ArtistId\" = \"Artist\".\"ArtistId\"\n",
      "        WHERE \"Artist\".\"Name\" = 'Alanis Morissette';\n"
     ]
    }
   ],
   "source": [
    "print(response)"
   ]
  },
  {
   "cell_type": "code",
   "execution_count": 319,
   "id": "1ac8f29f-8418-4b82-a462-91510d3a0dba",
   "metadata": {},
   "outputs": [
    {
     "data": {
      "text/plain": [
       "\"[('Rock',)]\""
      ]
     },
     "execution_count": 319,
     "metadata": {},
     "output_type": "execute_result"
    }
   ],
   "source": [
    "db.run(command=response)"
   ]
  },
  {
   "cell_type": "code",
   "execution_count": null,
   "id": "c0095ed7-14a7-4a9f-8a96-788bd89ceb23",
   "metadata": {},
   "outputs": [],
   "source": []
  }
 ],
 "metadata": {
  "kernelspec": {
   "display_name": "Python 3 (ipykernel)",
   "language": "python",
   "name": "python3"
  },
  "language_info": {
   "codemirror_mode": {
    "name": "ipython",
    "version": 3
   },
   "file_extension": ".py",
   "mimetype": "text/x-python",
   "name": "python",
   "nbconvert_exporter": "python",
   "pygments_lexer": "ipython3",
   "version": "3.11.9"
  }
 },
 "nbformat": 4,
 "nbformat_minor": 5
}
