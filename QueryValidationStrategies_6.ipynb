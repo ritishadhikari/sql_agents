{
 "cells": [
  {
   "cell_type": "code",
   "execution_count": 81,
   "id": "f65d3b7f-a21e-48d1-8cef-466e4e873c96",
   "metadata": {},
   "outputs": [],
   "source": [
    "import langchain\n",
    "from dotenv import load_dotenv,find_dotenv\n",
    "from langchain_community.utilities import SQLDatabase\n",
    "from langchain_core.runnables import RunnablePassthrough,RunnableLambda,RunnableParallel\n",
    "from langchain_core.output_parsers import StrOutputParser,JsonOutputParser\n",
    "from langchain_core.prompts import (PromptTemplate, ChatPromptTemplate,FewShotPromptTemplate,\n",
    "                            MessagesPlaceholder,SystemMessagePromptTemplate,HumanMessagePromptTemplate)\n",
    "from langchain_community.vectorstores import FAISS, Chroma\n",
    "from langchain_core.example_selectors import SemanticSimilarityExampleSelector\n",
    "from langchain.embeddings import SentenceTransformerEmbeddings\n",
    "from langchain_google_genai import GoogleGenerativeAI,ChatGoogleGenerativeAI\n",
    "from langchain_community.tools.sql_database.tool import QuerySQLDataBaseTool\n",
    "from langchain_community.agent_toolkits import create_sql_agent\n",
    "from langchain_openai import ChatOpenAI\n",
    "from langchain.chains.sql_database.prompt import SQL_PROMPTS\n",
    "from langchain.chains import create_sql_query_chain"
   ]
  },
  {
   "cell_type": "code",
   "execution_count": 2,
   "id": "b62ea520-4294-4087-afce-b58589853cf3",
   "metadata": {},
   "outputs": [
    {
     "data": {
      "text/plain": [
       "True"
      ]
     },
     "execution_count": 2,
     "metadata": {},
     "output_type": "execute_result"
    }
   ],
   "source": [
    "load_dotenv(find_dotenv(\"D:\\LLM Courses\\Master Langchain Udemy\\.env\"))"
   ]
  },
  {
   "cell_type": "code",
   "execution_count": 4,
   "id": "59a58e2a-49d0-4e29-bbc4-ab015fed3cd3",
   "metadata": {},
   "outputs": [],
   "source": [
    "llm=ChatGoogleGenerativeAI(model=\"gemini-1.5-flash-001\",temperature=0.3)\n",
    "db=SQLDatabase.from_uri(database_uri=\"sqlite:///db/chinook.db/chinook.db\")"
   ]
  },
  {
   "cell_type": "code",
   "execution_count": 5,
   "id": "e7742e42-50bd-4e52-98da-a8c2b38d3fe7",
   "metadata": {},
   "outputs": [
    {
     "data": {
      "text/plain": [
       "'sqlite'"
      ]
     },
     "execution_count": 5,
     "metadata": {},
     "output_type": "execute_result"
    }
   ],
   "source": [
    "db.dialect"
   ]
  },
  {
   "cell_type": "code",
   "execution_count": null,
   "id": "e673c1cb-5a7c-4429-9337-75c273cb0b74",
   "metadata": {},
   "outputs": [],
   "source": []
  },
  {
   "cell_type": "markdown",
   "id": "759797fa-660f-4806-a10b-f05d353ba9ea",
   "metadata": {},
   "source": [
    "<h3>Validate Query with the second chain</h3>"
   ]
  },
  {
   "cell_type": "code",
   "execution_count": 113,
   "id": "09bfb788-4136-407b-8732-fadd5f2b26cb",
   "metadata": {},
   "outputs": [],
   "source": [
    "system=SystemMessagePromptTemplate.from_template(\n",
    "    template=\"\"\"Double check the user's {dialect} query for common mistakes, including:\n",
    "            - Using NOT IN with NULL values\n",
    "            - Using UNION when UNION ALL should have been used\n",
    "            - Using BETWEEN for exclusive ranges\n",
    "            - Data type mismatch in predicates\n",
    "            - Properly quoting identifiers\n",
    "            - Using the correct number of arguments for functions\n",
    "            - Casting to the correct data type\n",
    "            - Using the proper columns for joins\n",
    "            \n",
    "            If there are any of the above mistakes, rewrite the query. If there are no mistakes, just reproduce the original query.\n",
    "            \n",
    "            Output the final SQL query only.\"\"\"\n",
    "            )\n",
    "human=HumanMessagePromptTemplate.from_template(template=\"{query}\")"
   ]
  },
  {
   "cell_type": "code",
   "execution_count": 114,
   "id": "cb52a407",
   "metadata": {},
   "outputs": [],
   "source": [
    "system=SystemMessagePromptTemplate.from_template(\n",
    "    template=\"\"\"Double check the user's {dialect} query for common mistakes, including:\n",
    "            - Using NOT IN with NULL values\n",
    "            - Using UNION when UNION ALL should have been used\n",
    "            - Using BETWEEN for exclusive ranges\n",
    "            - Data type mismatch in predicates\n",
    "            - Properly quoting identifiers\n",
    "            - Using the correct number of arguments for functions\n",
    "            - Casting to the correct data type\n",
    "            - Using the proper columns for joins\n",
    "            \n",
    "            If there are any of the above mistakes, rewrite the query. If there are no mistakes, just reproduce the original query.\n",
    "            \n",
    "            Output the final SQL query only.\"\"\"\n",
    "            )\n",
    "human=HumanMessagePromptTemplate.from_template(template=\"{query}\")"
   ]
  },
  {
   "cell_type": "code",
   "execution_count": 115,
   "id": "ea93a3df-ee54-400a-b7ab-1162139984f5",
   "metadata": {},
   "outputs": [],
   "source": [
    "prompt=ChatPromptTemplate.from_messages(\n",
    "    messages=[\n",
    "        system,\n",
    "        human\n",
    "    ]\n",
    ").partial(dialect=db.dialect)"
   ]
  },
  {
   "cell_type": "code",
   "execution_count": 116,
   "id": "308ceae6-e446-4064-b232-aa7009e94f7e",
   "metadata": {},
   "outputs": [
    {
     "data": {
      "text/plain": [
       "SystemMessagePromptTemplate(prompt=PromptTemplate(input_variables=['dialect'], template=\"Double check the user's {dialect} query for common mistakes, including:\\n            - Using NOT IN with NULL values\\n            - Using UNION when UNION ALL should have been used\\n            - Using BETWEEN for exclusive ranges\\n            - Data type mismatch in predicates\\n            - Properly quoting identifiers\\n            - Using the correct number of arguments for functions\\n            - Casting to the correct data type\\n            - Using the proper columns for joins\\n            \\n            If there are any of the above mistakes, rewrite the query. If there are no mistakes, just reproduce the original query.\\n            \\n            Output the final SQL query only.\"))"
      ]
     },
     "execution_count": 116,
     "metadata": {},
     "output_type": "execute_result"
    }
   ],
   "source": [
    "prompt.messages[0]"
   ]
  },
  {
   "cell_type": "code",
   "execution_count": 117,
   "id": "be335bf0-1128-4210-8342-ce27e0318761",
   "metadata": {},
   "outputs": [],
   "source": [
    "chain=create_sql_query_chain(llm=llm,db=db)\n",
    "fullChain=chain | prompt | llm | StrOutputParser() | RunnableLambda(lambda d: d.replace(\"sqlite\",\"\").replace(\"```\",\"\").strip())"
   ]
  },
  {
   "cell_type": "code",
   "execution_count": 118,
   "id": "010332e1-fc37-40eb-bd9c-3ce37b0d4aa4",
   "metadata": {},
   "outputs": [],
   "source": [
    "question=\"What's the average Invoice from an American customer whose Fax is missing since 2003 but before 2010\"\n",
    "responseQuery=fullChain.invoke(\n",
    "            input={\"question\":question}\n",
    "                )"
   ]
  },
  {
   "cell_type": "code",
   "execution_count": 119,
   "id": "b47fe243-36c6-4857-9880-838afa0a6e2f",
   "metadata": {},
   "outputs": [
    {
     "name": "stdout",
     "output_type": "stream",
     "text": [
      "SELECT AVG(T1.Total) FROM \"Invoice\" AS T1 INNER JOIN \"Customer\" AS T2 ON T1.CustomerId = T2.CustomerId WHERE T2.Country = 'USA' AND T2.Fax IS NULL AND T1.InvoiceDate BETWEEN '2003-01-01' AND '2010-01-01'\n"
     ]
    }
   ],
   "source": [
    "print(responseQuery)"
   ]
  },
  {
   "cell_type": "code",
   "execution_count": 120,
   "id": "18467fe4-ad3a-4329-a2be-a68257e03f5d",
   "metadata": {},
   "outputs": [
    {
     "data": {
      "text/plain": [
       "'[(6.633,)]'"
      ]
     },
     "execution_count": 120,
     "metadata": {},
     "output_type": "execute_result"
    }
   ],
   "source": [
    "db.run(command=responseQuery)"
   ]
  },
  {
   "cell_type": "markdown",
   "id": "5e6e6dfa-e84f-4191-b6f5-65123f047897",
   "metadata": {},
   "source": [
    "<h3>Using Runnable Passthrough </h3>"
   ]
  },
  {
   "cell_type": "code",
   "execution_count": 121,
   "id": "8e0ce0f8-f5ff-413b-a9ce-a52eaf81f21d",
   "metadata": {},
   "outputs": [],
   "source": [
    "fullChain=RunnablePassthrough.assign(query=chain) | prompt | llm | StrOutputParser() | RunnableLambda(lambda d: d.replace(\"sqlite\",\"\").replace(\"```\",\"\").strip())"
   ]
  },
  {
   "cell_type": "code",
   "execution_count": 122,
   "id": "d3311c3a-e37c-4660-be2a-60bc9a6c7832",
   "metadata": {},
   "outputs": [
    {
     "name": "stdout",
     "output_type": "stream",
     "text": [
      "SELECT AVG(T1.Total) FROM \"Invoice\" AS T1 INNER JOIN \"Customer\" AS T2 ON T1.CustomerId = T2.CustomerId WHERE T2.Country = 'USA' AND T2.Fax IS NULL AND T1.InvoiceDate BETWEEN '2003-01-01' AND '2010-01-01'\n"
     ]
    }
   ],
   "source": [
    "responseQuery=fullChain.invoke(\n",
    "            input={\"question\":question}\n",
    "                )\n",
    "print(responseQuery)"
   ]
  },
  {
   "cell_type": "code",
   "execution_count": 123,
   "id": "9a5107d9-6f18-42a9-a576-6069ae424eee",
   "metadata": {},
   "outputs": [
    {
     "data": {
      "text/plain": [
       "'[(6.633,)]'"
      ]
     },
     "execution_count": 123,
     "metadata": {},
     "output_type": "execute_result"
    }
   ],
   "source": [
    "db.run(command=responseQuery)"
   ]
  },
  {
   "cell_type": "markdown",
   "id": "5b453f34-65d1-4ab9-b194-427b7fee9eee",
   "metadata": {},
   "source": [
    "<h3>Validating Query with a Single Chain</h3>"
   ]
  },
  {
   "cell_type": "code",
   "execution_count": 320,
   "id": "faaf9fbd-dd7d-409b-be95-5543e4cff08e",
   "metadata": {},
   "outputs": [],
   "source": [
    "system=SystemMessagePromptTemplate.from_template(\n",
    "    template=\"\"\"\n",
    "            You are a {dialect} expert. Given an input question, creat a syntactically correct {dialect} query to run.\n",
    "            Unless the user specifies in the question a specific number of examples to obtain, query for at most {top_k} results using the LIMIT clause as per {dialect}. You can order the results to return the most informative data in the database.\n",
    "            Never query for all columns from a table. You must query only the columns that are needed to answer the question. Wrap each column name in double quotes (\") to denote them as delimited identifiers.\n",
    "            \n",
    "            Pay attention to use only the column names you can see in the tables below. Be careful to not query for columns that do not exist. Also, pay attention to which column is in which table.\n",
    "            Pay attention to use date('now') function to get the current date, if the question involves \"today\".\n",
    "            Properly quote identifiers (in where clause) with double quotes (\"), ex., <<Where C.\"Country\"=\"Canada\">>\n",
    "            Only use the following tables:\n",
    "            {table_info}\n",
    "            \n",
    "            Write an initial draft of the query. Then double check the {dialect} query for common mistakes, including:\n",
    "            - Do Not use any preamble like : {{```}} , {{<<}}, {{>>}} or {{SQL}}: \n",
    "            - Using NOT IN with NULL values\n",
    "            - Using UNION when UNION ALL should have been used\n",
    "            - Using BETWEEN for exclusive ranges\n",
    "            - Data type mismatch in predicates\n",
    "            - Using the correct number of arguments for functions\n",
    "            - Casting to the correct data type\n",
    "            - Using the proper columns for joins\n",
    "            \n",
    "            Example Query:\n",
    "                SELECT c.country\n",
    "                FROM \"Invoice\" i\n",
    "                JOIN \"Customer\" c ON i.\"CustomerId\" = c.\"CustomerId\"\n",
    "                WHERE c.\"Country\" = \"Canada\"                \n",
    "            \n",
    "            Use format:\n",
    "            \n",
    "            First draft: <<FIRST_DRAFT_QUERY>>\n",
    "            Final answer: <<FINAL_ANSWER_QUERY>>\n",
    "            \"\"\"\n",
    ")\n",
    "human=HumanMessagePromptTemplate.from_template(\n",
    "    template=\"{input}\"\n",
    ")"
   ]
  },
  {
   "cell_type": "code",
   "execution_count": 321,
   "id": "021e9539-ba39-4e20-93ba-fd2f8183291c",
   "metadata": {},
   "outputs": [
    {
     "data": {
      "text/plain": [
       "'Album, Artist, Customer, Employee, Genre, Invoice, InvoiceLine, MediaType, Playlist, PlaylistTrack, Track'"
      ]
     },
     "execution_count": 321,
     "metadata": {},
     "output_type": "execute_result"
    }
   ],
   "source": [
    "db.get_context()['table_names']"
   ]
  },
  {
   "cell_type": "code",
   "execution_count": 322,
   "id": "07f966bc-436f-495a-b309-8f21c3ccf623",
   "metadata": {},
   "outputs": [],
   "source": [
    "prompt=ChatPromptTemplate.from_messages(\n",
    "    messages=[\n",
    "        system,\n",
    "        human\n",
    "    ]\n",
    ").partial(dialect=db.dialect,top_k=5,table_info=db.get_context()['table_names'])"
   ]
  },
  {
   "cell_type": "code",
   "execution_count": 323,
   "id": "d76f5da1-3580-4a17-887e-6f36df947e67",
   "metadata": {},
   "outputs": [
    {
     "name": "stdout",
     "output_type": "stream",
     "text": [
      "================================\u001b[1m System Message \u001b[0m================================\n",
      "\n",
      "\n",
      "            You are a \u001b[33;1m\u001b[1;3m{dialect}\u001b[0m expert. Given an input question, creat a syntactically correct \u001b[33;1m\u001b[1;3m{dialect}\u001b[0m query to run.\n",
      "            Unless the user specifies in the question a specific number of examples to obtain, query for at most \u001b[33;1m\u001b[1;3m{top_k}\u001b[0m results using the LIMIT clause as per \u001b[33;1m\u001b[1;3m{dialect}\u001b[0m. You can order the results to return the most informative data in the database.\n",
      "            Never query for all columns from a table. You must query only the columns that are needed to answer the question. Wrap each column name in double quotes (\") to denote them as delimited identifiers.\n",
      "            \n",
      "            Pay attention to use only the column names you can see in the tables below. Be careful to not query for columns that do not exist. Also, pay attention to which column is in which table.\n",
      "            Pay attention to use date('now') function to get the current date, if the question involves \"today\".\n",
      "            Properly quote identifiers (in where clause) with double quotes (\"), ex., <<Where C.\"Country\"=\"Canada\">>\n",
      "            Only use the following tables:\n",
      "            \u001b[33;1m\u001b[1;3m{table_info}\u001b[0m\n",
      "            \n",
      "            Write an initial draft of the query. Then double check the \u001b[33;1m\u001b[1;3m{dialect}\u001b[0m query for common mistakes, including:\n",
      "            - Do Not use any preamble like : {```} , {<<}, {>>} or {SQL}: \n",
      "            - Using NOT IN with NULL values\n",
      "            - Using UNION when UNION ALL should have been used\n",
      "            - Using BETWEEN for exclusive ranges\n",
      "            - Data type mismatch in predicates\n",
      "            - Using the correct number of arguments for functions\n",
      "            - Casting to the correct data type\n",
      "            - Using the proper columns for joins\n",
      "            \n",
      "            Example Query:\n",
      "                SELECT c.country\n",
      "                FROM \"Invoice\" i\n",
      "                JOIN \"Customer\" c ON i.\"CustomerId\" = c.\"CustomerId\"\n",
      "                WHERE c.\"Country\" = \"Canada\"                \n",
      "            \n",
      "            Use format:\n",
      "            \n",
      "            First draft: <<FIRST_DRAFT_QUERY>>\n",
      "            Final answer: <<FINAL_ANSWER_QUERY>>\n",
      "            \n"
     ]
    }
   ],
   "source": [
    "prompt.messages[0].pretty_print()"
   ]
  },
  {
   "cell_type": "code",
   "execution_count": 324,
   "id": "b2ef1037-5349-4cca-9e90-ef283f44cd10",
   "metadata": {},
   "outputs": [],
   "source": [
    "# llm=ChatOpenAI(model=\"gpt-3.5-turbo\")\n",
    "llm=GoogleGenerativeAI(model=\"gemini-1.5-pro\")\n",
    "chain=create_sql_query_chain(llm=llm,prompt=prompt,db=db)"
   ]
  },
  {
   "cell_type": "code",
   "execution_count": 327,
   "id": "2bf11b9d-57ed-40bc-a93e-023ad4721d4a",
   "metadata": {},
   "outputs": [],
   "source": [
    "fullChain=RunnablePassthrough.assign(input=chain) | RunnableLambda(lambda k: k['input'].split(\"Final answer: \")[1].replace(\"<<\",\"\").replace(\">>\",\"\"))"
   ]
  },
  {
   "cell_type": "code",
   "execution_count": 328,
   "id": "f22d44b8-fdd4-43d8-8874-b6ff3287891d",
   "metadata": {},
   "outputs": [
    {
     "name": "stdout",
     "output_type": "stream",
     "text": [
      "SELECT AVG(\"Total\") FROM \"Invoice\" AS T1 INNER JOIN \"Customer\" AS T2 ON T1.\"CustomerId\" = T2.\"CustomerId\" WHERE T2.\"Country\" = 'USA' AND T2.\"Fax\" IS NULL AND T1.\"InvoiceDate\" BETWEEN '2003-01-01' AND '2009-12-31' LIMIT 5\n"
     ]
    }
   ],
   "source": [
    "response=fullChain.invoke(input={'question':question})\n",
    "print(response)"
   ]
  },
  {
   "cell_type": "code",
   "execution_count": 329,
   "id": "58e85d5e-8030-479a-a911-81cd884d3677",
   "metadata": {},
   "outputs": [
    {
     "data": {
      "text/plain": [
       "'[(6.633,)]'"
      ]
     },
     "execution_count": 329,
     "metadata": {},
     "output_type": "execute_result"
    }
   ],
   "source": [
    "# Problem persists\n",
    "db.run(command=response)"
   ]
  },
  {
   "cell_type": "code",
   "execution_count": null,
   "id": "a007aaa4-03ed-48b3-b033-0f2248854103",
   "metadata": {},
   "outputs": [],
   "source": []
  }
 ],
 "metadata": {
  "kernelspec": {
   "display_name": "Python 3 (ipykernel)",
   "language": "python",
   "name": "python3"
  },
  "language_info": {
   "codemirror_mode": {
    "name": "ipython",
    "version": 3
   },
   "file_extension": ".py",
   "mimetype": "text/x-python",
   "name": "python",
   "nbconvert_exporter": "python",
   "pygments_lexer": "ipython3",
   "version": "3.11.9"
  }
 },
 "nbformat": 4,
 "nbformat_minor": 5
}
